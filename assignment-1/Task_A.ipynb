{
 "cells": [
  {
   "cell_type": "markdown",
   "metadata": {},
   "source": [
    "# Task A: Designing a Convolution Module for Variable Input Channels\n",
    "\n",
    "Design a special convolutional module that is spatial size invariant and can handle an arbitrary number of input channels. \n",
    "\n",
    "Explain:\n",
    "\n",
    "1. design principles\n",
    "\n",
    "2. references\n",
    "\n",
    "3. additional costs (such as FLOPS or #PARAMS) \n",
    "\n",
    "and compare with naive models. "
   ]
  },
  {
   "cell_type": "code",
   "execution_count": 3,
   "metadata": {},
   "outputs": [],
   "source": [
    "import os\n",
    "import numpy as np\n",
    "from PIL import Image\n",
    "import torch\n",
    "from torch.utils.data import Dataset"
   ]
  },
  {
   "cell_type": "code",
   "execution_count": 4,
   "metadata": {},
   "outputs": [],
   "source": [
    "class ImageClassDataset(Dataset):\n",
    "    def __init__(self, names_file):\n",
    "        self.images_dir = os.path.join(os.path.dirname(__file__), \"images\")\n",
    "        self.x = []\n",
    "        self.y = []\n",
    "        \n",
    "        with open(os.path.join(self.images_dir, names_file)) as Name_file:\n",
    "            lines = Name_file.readlines()\n",
    "            self.n_samples = len(lines)\n",
    "            \n",
    "            for line in lines:\n",
    "                parts = line.strip().split(' ')\n",
    "                self.x.append(parts[0])\n",
    "                self.y.append(int(parts[1]))\n",
    "    \n",
    "    def __getitem__(self, index):\n",
    "        img_path = os.path.join(self.images_dir, self.x[index])\n",
    "        image = Image.open(img_path).convert('RGB')\n",
    "        return image, self.y[index]\n",
    "\n",
    "    def __len__(self):\n",
    "        return self.n_samples"
   ]
  },
  {
   "cell_type": "code",
   "execution_count": null,
   "metadata": {},
   "outputs": [],
   "source": []
  }
 ],
 "metadata": {
  "kernelspec": {
   "display_name": "Python 3",
   "language": "python",
   "name": "python3"
  },
  "language_info": {
   "codemirror_mode": {
    "name": "ipython",
    "version": 3
   },
   "file_extension": ".py",
   "mimetype": "text/x-python",
   "name": "python",
   "nbconvert_exporter": "python",
   "pygments_lexer": "ipython3",
   "version": "3.11.11"
  }
 },
 "nbformat": 4,
 "nbformat_minor": 2
}
